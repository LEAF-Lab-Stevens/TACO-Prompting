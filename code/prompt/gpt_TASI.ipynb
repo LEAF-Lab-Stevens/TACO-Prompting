{
 "cells": [
  {
   "cell_type": "code",
   "execution_count": null,
   "metadata": {},
   "outputs": [],
   "source": [
    "# chatgpt results\n",
    "from langchain.llms import OpenAI\n",
    "\n",
    "openai_api_key = \"\"\n"
   ]
  },
  {
   "cell_type": "code",
   "execution_count": null,
   "metadata": {},
   "outputs": [],
   "source": [
    "# initializing ChatGPT\n",
    "llm = OpenAI(\n",
    "    # model_name=\"gpt-4-turbo\",\n",
    "    model_name=\"gpt-4o\",\n",
    "    temperature=0.5,\n",
    "    max_tokens=200,\n",
    "    openai_api_key=openai_api_key,\n",
    ")"
   ]
  },
  {
   "cell_type": "code",
   "execution_count": null,
   "metadata": {},
   "outputs": [],
   "source": [
    "# read in data\n",
    "# get the text report as input\n",
    "import pandas as pd\n",
    "df_text = pd.read_csv('./doc_level_gold_labels.csv')\n",
    "eg = df_text\n",
    "input_text = eg.text.to_list()\n",
    "input_labels = eg.labels.to_list()\n",
    "eg"
   ]
  },
  {
   "cell_type": "code",
   "execution_count": null,
   "metadata": {},
   "outputs": [],
   "source": [
    "# revised prompt structure\n",
    "example = \"\"\"\n",
    "Symptom List: {\"Erythema\": [\"redness\", \"redness\"], \"Pain in extremity\": [\"sore\", \"arm\", \"soreness\"], \"Pruritus\": [\"none\"]}\n",
    "Suggest List: {\"Erythema\": [\"redness\", \"redness\"], \"Pruritus\": [\"none\"]}\n",
    "\"\"\"\n",
    "input_template = \"\"\"\n",
    "Ignore previous conversations.\n",
    "\n",
    "Clinical Notes: {text}\n",
    "\n",
    "First, extract a symptom list including all symptoms from the clinical text above\n",
    "Then, extract the symptoms that indicating each of the suggested terms below from the symptom list in previous step. \n",
    "Include the terms in the output even if the terms are not explicitly mentioned in the provided report, just provide ‘none’ as the result. \n",
    "Please follow the order of this list: {suggest} and generate output by following the requirements below:\n",
    "\n",
    "Requirements:\n",
    "1. Adverse event means any symptoms or irregular test results. Therefore, procedure description, negative test results, or only the mention of the test itself are not adverse events.\n",
    "2. If any non symptom, vague mention, or non vaccine related terms appeared in the suggested terms, just provide \"none\" for them in output. \n",
    "3. The output should be include a list of symptoms and in json format like the example below shows.\n",
    "\n",
    "Example: \n",
    "{example}\n",
    "\n",
    "Here is the output:\n",
    "\"\"\""
   ]
  },
  {
   "cell_type": "code",
   "execution_count": null,
   "metadata": {},
   "outputs": [],
   "source": [
    "# build up the call\n",
    "# role:user or system\n",
    "answer_lst = []\n",
    "for row in eg.iterrows():\n",
    "    txt = row[1]['text']\n",
    "    suggest = row[1]['labels']\n",
    "    input = input_template.format(text=txt, suggest = suggest, example = example)\n",
    "    answer = llm(input)\n",
    "    answer_lst.append(answer)\n",
    "eg['gpt_result'] = answer_lst"
   ]
  },
  {
   "cell_type": "code",
   "execution_count": null,
   "metadata": {},
   "outputs": [],
   "source": [
    "# eg.final_labels.to_list()"
   ]
  },
  {
   "cell_type": "code",
   "execution_count": null,
   "metadata": {},
   "outputs": [],
   "source": [
    "result_df = eg[['gpt_result', 'final_labels', 'doc_id', 'text']]\n",
    "f_name = 'gpt_4o_result_temp5_2nd_prompt.json'\n",
    "result_df.to_json(f_name)\n"
   ]
  },
  {
   "cell_type": "code",
   "execution_count": null,
   "metadata": {},
   "outputs": [],
   "source": [
    "for r in result_df.iterrows():\n",
    "    print(r[0])\n",
    "    print(r[1]['gpt_result'])\n",
    "    print(r[1]['final_labels'])"
   ]
  }
 ],
 "metadata": {
  "kernelspec": {
   "display_name": "Python 3.8.10 64-bit",
   "language": "python",
   "name": "python3"
  },
  "language_info": {
   "codemirror_mode": {
    "name": "ipython",
    "version": 3
   },
   "file_extension": ".py",
   "mimetype": "text/x-python",
   "name": "python",
   "nbconvert_exporter": "python",
   "pygments_lexer": "ipython3",
   "version": "3.10.12"
  },
  "orig_nbformat": 4,
  "vscode": {
   "interpreter": {
    "hash": "31f2aee4e71d21fbe5cf8b01ff0e069b9275f58929596ceb00d14d90e3e16cd6"
   }
  }
 },
 "nbformat": 4,
 "nbformat_minor": 2
}
